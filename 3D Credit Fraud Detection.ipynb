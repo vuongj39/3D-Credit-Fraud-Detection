{
 "cells": [
  {
   "cell_type": "code",
   "execution_count": 1,
   "metadata": {},
   "outputs": [],
   "source": [
    "import pandas as pd\n",
    "import numpy as np\n",
    "import matplotlib.pyplot as plt\n",
    "import seaborn as sns\n",
    "import warnings\n",
    "warnings.filterwarnings(\"ignore\")"
   ]
  },
  {
   "cell_type": "code",
   "execution_count": 19,
   "metadata": {},
   "outputs": [],
   "source": [
    "from sklearn.metrics import precision_score, recall_score, f1_score, roc_auc_score, accuracy_score, confusion_matrix, classification_report\n",
    "from sklearn.model_selection import train_test_split\n",
    "from sklearn.model_selection import StratifiedShuffleSplit #\n",
    "from sklearn.model_selection import KFold, StratifiedKFold #\n",
    "from sklearn.linear_model import LogisticRegression\n",
    "from sklearn.pipeline import make_pipeline\n",
    "from imblearn.pipeline import make_pipeline as imbalanced_make_pipeline\n",
    "from imblearn.under_sampling import NearMiss\n",
    "from imblearn.over_sampling import SMOTE"
   ]
  },
  {
   "cell_type": "markdown",
   "metadata": {},
   "source": [
    "# General Sense of Data"
   ]
  },
  {
   "cell_type": "markdown",
   "metadata": {},
   "source": [
    "Data was obtain from:\n",
    "https://www.kaggle.com/c/3d-credit-card-fraud-detection/data?select=sample_submission.csv"
   ]
  },
  {
   "cell_type": "code",
   "execution_count": 3,
   "metadata": {},
   "outputs": [],
   "source": [
    "df = pd.read_csv('train.csv')"
   ]
  },
  {
   "cell_type": "code",
   "execution_count": 4,
   "metadata": {},
   "outputs": [
    {
     "data": {
      "text/html": [
       "<div>\n",
       "<style scoped>\n",
       "    .dataframe tbody tr th:only-of-type {\n",
       "        vertical-align: middle;\n",
       "    }\n",
       "\n",
       "    .dataframe tbody tr th {\n",
       "        vertical-align: top;\n",
       "    }\n",
       "\n",
       "    .dataframe thead th {\n",
       "        text-align: right;\n",
       "    }\n",
       "</style>\n",
       "<table border=\"1\" class=\"dataframe\">\n",
       "  <thead>\n",
       "    <tr style=\"text-align: right;\">\n",
       "      <th></th>\n",
       "      <th>Time</th>\n",
       "      <th>V1</th>\n",
       "      <th>V2</th>\n",
       "      <th>V3</th>\n",
       "      <th>V4</th>\n",
       "      <th>V5</th>\n",
       "      <th>V6</th>\n",
       "      <th>V7</th>\n",
       "      <th>V8</th>\n",
       "      <th>V9</th>\n",
       "      <th>...</th>\n",
       "      <th>V21</th>\n",
       "      <th>V22</th>\n",
       "      <th>V23</th>\n",
       "      <th>V24</th>\n",
       "      <th>V25</th>\n",
       "      <th>V26</th>\n",
       "      <th>V27</th>\n",
       "      <th>V28</th>\n",
       "      <th>Amount</th>\n",
       "      <th>Class</th>\n",
       "    </tr>\n",
       "  </thead>\n",
       "  <tbody>\n",
       "    <tr>\n",
       "      <th>0</th>\n",
       "      <td>0.0</td>\n",
       "      <td>-1.359807</td>\n",
       "      <td>-0.072781</td>\n",
       "      <td>2.536347</td>\n",
       "      <td>1.378155</td>\n",
       "      <td>-0.338321</td>\n",
       "      <td>0.462388</td>\n",
       "      <td>0.239599</td>\n",
       "      <td>0.098698</td>\n",
       "      <td>0.363787</td>\n",
       "      <td>...</td>\n",
       "      <td>-0.018307</td>\n",
       "      <td>0.277838</td>\n",
       "      <td>-0.110474</td>\n",
       "      <td>0.066928</td>\n",
       "      <td>0.128539</td>\n",
       "      <td>-0.189115</td>\n",
       "      <td>0.133558</td>\n",
       "      <td>-0.021053</td>\n",
       "      <td>149.62</td>\n",
       "      <td>0</td>\n",
       "    </tr>\n",
       "    <tr>\n",
       "      <th>1</th>\n",
       "      <td>0.0</td>\n",
       "      <td>1.191857</td>\n",
       "      <td>0.266151</td>\n",
       "      <td>0.166480</td>\n",
       "      <td>0.448154</td>\n",
       "      <td>0.060018</td>\n",
       "      <td>-0.082361</td>\n",
       "      <td>-0.078803</td>\n",
       "      <td>0.085102</td>\n",
       "      <td>-0.255425</td>\n",
       "      <td>...</td>\n",
       "      <td>-0.225775</td>\n",
       "      <td>-0.638672</td>\n",
       "      <td>0.101288</td>\n",
       "      <td>-0.339846</td>\n",
       "      <td>0.167170</td>\n",
       "      <td>0.125895</td>\n",
       "      <td>-0.008983</td>\n",
       "      <td>0.014724</td>\n",
       "      <td>2.69</td>\n",
       "      <td>0</td>\n",
       "    </tr>\n",
       "    <tr>\n",
       "      <th>2</th>\n",
       "      <td>1.0</td>\n",
       "      <td>-1.358354</td>\n",
       "      <td>-1.340163</td>\n",
       "      <td>1.773209</td>\n",
       "      <td>0.379780</td>\n",
       "      <td>-0.503198</td>\n",
       "      <td>1.800499</td>\n",
       "      <td>0.791461</td>\n",
       "      <td>0.247676</td>\n",
       "      <td>-1.514654</td>\n",
       "      <td>...</td>\n",
       "      <td>0.247998</td>\n",
       "      <td>0.771679</td>\n",
       "      <td>0.909412</td>\n",
       "      <td>-0.689281</td>\n",
       "      <td>-0.327642</td>\n",
       "      <td>-0.139097</td>\n",
       "      <td>-0.055353</td>\n",
       "      <td>-0.059752</td>\n",
       "      <td>378.66</td>\n",
       "      <td>0</td>\n",
       "    </tr>\n",
       "    <tr>\n",
       "      <th>3</th>\n",
       "      <td>1.0</td>\n",
       "      <td>-0.966272</td>\n",
       "      <td>-0.185226</td>\n",
       "      <td>1.792993</td>\n",
       "      <td>-0.863291</td>\n",
       "      <td>-0.010309</td>\n",
       "      <td>1.247203</td>\n",
       "      <td>0.237609</td>\n",
       "      <td>0.377436</td>\n",
       "      <td>-1.387024</td>\n",
       "      <td>...</td>\n",
       "      <td>-0.108300</td>\n",
       "      <td>0.005274</td>\n",
       "      <td>-0.190321</td>\n",
       "      <td>-1.175575</td>\n",
       "      <td>0.647376</td>\n",
       "      <td>-0.221929</td>\n",
       "      <td>0.062723</td>\n",
       "      <td>0.061458</td>\n",
       "      <td>123.50</td>\n",
       "      <td>0</td>\n",
       "    </tr>\n",
       "    <tr>\n",
       "      <th>4</th>\n",
       "      <td>2.0</td>\n",
       "      <td>-1.158233</td>\n",
       "      <td>0.877737</td>\n",
       "      <td>1.548718</td>\n",
       "      <td>0.403034</td>\n",
       "      <td>-0.407193</td>\n",
       "      <td>0.095921</td>\n",
       "      <td>0.592941</td>\n",
       "      <td>-0.270533</td>\n",
       "      <td>0.817739</td>\n",
       "      <td>...</td>\n",
       "      <td>-0.009431</td>\n",
       "      <td>0.798278</td>\n",
       "      <td>-0.137458</td>\n",
       "      <td>0.141267</td>\n",
       "      <td>-0.206010</td>\n",
       "      <td>0.502292</td>\n",
       "      <td>0.219422</td>\n",
       "      <td>0.215153</td>\n",
       "      <td>69.99</td>\n",
       "      <td>0</td>\n",
       "    </tr>\n",
       "  </tbody>\n",
       "</table>\n",
       "<p>5 rows × 31 columns</p>\n",
       "</div>"
      ],
      "text/plain": [
       "   Time        V1        V2        V3        V4        V5        V6        V7  \\\n",
       "0   0.0 -1.359807 -0.072781  2.536347  1.378155 -0.338321  0.462388  0.239599   \n",
       "1   0.0  1.191857  0.266151  0.166480  0.448154  0.060018 -0.082361 -0.078803   \n",
       "2   1.0 -1.358354 -1.340163  1.773209  0.379780 -0.503198  1.800499  0.791461   \n",
       "3   1.0 -0.966272 -0.185226  1.792993 -0.863291 -0.010309  1.247203  0.237609   \n",
       "4   2.0 -1.158233  0.877737  1.548718  0.403034 -0.407193  0.095921  0.592941   \n",
       "\n",
       "         V8        V9  ...       V21       V22       V23       V24       V25  \\\n",
       "0  0.098698  0.363787  ... -0.018307  0.277838 -0.110474  0.066928  0.128539   \n",
       "1  0.085102 -0.255425  ... -0.225775 -0.638672  0.101288 -0.339846  0.167170   \n",
       "2  0.247676 -1.514654  ...  0.247998  0.771679  0.909412 -0.689281 -0.327642   \n",
       "3  0.377436 -1.387024  ... -0.108300  0.005274 -0.190321 -1.175575  0.647376   \n",
       "4 -0.270533  0.817739  ... -0.009431  0.798278 -0.137458  0.141267 -0.206010   \n",
       "\n",
       "        V26       V27       V28  Amount  Class  \n",
       "0 -0.189115  0.133558 -0.021053  149.62      0  \n",
       "1  0.125895 -0.008983  0.014724    2.69      0  \n",
       "2 -0.139097 -0.055353 -0.059752  378.66      0  \n",
       "3 -0.221929  0.062723  0.061458  123.50      0  \n",
       "4  0.502292  0.219422  0.215153   69.99      0  \n",
       "\n",
       "[5 rows x 31 columns]"
      ]
     },
     "execution_count": 4,
     "metadata": {},
     "output_type": "execute_result"
    }
   ],
   "source": [
    "df.head()"
   ]
  },
  {
   "cell_type": "code",
   "execution_count": 5,
   "metadata": {},
   "outputs": [
    {
     "data": {
      "text/plain": [
       "(170884, 31)"
      ]
     },
     "execution_count": 5,
     "metadata": {},
     "output_type": "execute_result"
    }
   ],
   "source": [
    "df.shape"
   ]
  },
  {
   "cell_type": "code",
   "execution_count": 6,
   "metadata": {},
   "outputs": [
    {
     "data": {
      "text/plain": [
       "Index(['Time', 'V1', 'V2', 'V3', 'V4', 'V5', 'V6', 'V7', 'V8', 'V9', 'V10',\n",
       "       'V11', 'V12', 'V13', 'V14', 'V15', 'V16', 'V17', 'V18', 'V19', 'V20',\n",
       "       'V21', 'V22', 'V23', 'V24', 'V25', 'V26', 'V27', 'V28', 'Amount',\n",
       "       'Class'],\n",
       "      dtype='object')"
      ]
     },
     "execution_count": 6,
     "metadata": {},
     "output_type": "execute_result"
    }
   ],
   "source": [
    "# columns\n",
    "df.columns"
   ]
  },
  {
   "cell_type": "code",
   "execution_count": 7,
   "metadata": {},
   "outputs": [
    {
     "data": {
      "text/plain": [
       "Time      0.0\n",
       "V1        0.0\n",
       "V2        0.0\n",
       "V3        0.0\n",
       "V4        0.0\n",
       "V5        0.0\n",
       "V6        0.0\n",
       "V7        0.0\n",
       "V8        0.0\n",
       "V9        0.0\n",
       "V10       0.0\n",
       "V11       0.0\n",
       "V12       0.0\n",
       "V13       0.0\n",
       "V14       0.0\n",
       "V15       0.0\n",
       "V16       0.0\n",
       "V17       0.0\n",
       "V18       0.0\n",
       "V19       0.0\n",
       "V20       0.0\n",
       "V21       0.0\n",
       "V22       0.0\n",
       "V23       0.0\n",
       "V24       0.0\n",
       "V25       0.0\n",
       "V26       0.0\n",
       "V27       0.0\n",
       "V28       0.0\n",
       "Amount    0.0\n",
       "Class     0.0\n",
       "dtype: float64"
      ]
     },
     "execution_count": 7,
     "metadata": {},
     "output_type": "execute_result"
    }
   ],
   "source": [
    "# missing values in dataframe\n",
    "df.isnull().sum()/len(df)*100"
   ]
  },
  {
   "cell_type": "code",
   "execution_count": 8,
   "metadata": {},
   "outputs": [
    {
     "name": "stdout",
     "output_type": "stream",
     "text": [
      "Fraud: 0.21\n",
      "Non-Fruad: 99.79\n"
     ]
    }
   ],
   "source": [
    "nonfraud = round(df.Class.value_counts()[0] / len(df.Class) * 100, 2)\n",
    "fraud = round(df.Class.value_counts()[1] / len(df.Class) * 100, 2)\n",
    "\n",
    "print(\"Fraud: {}\".format(fraud))\n",
    "print(\"Non-Fruad: {}\".format(nonfraud))"
   ]
  },
  {
   "cell_type": "code",
   "execution_count": 9,
   "metadata": {},
   "outputs": [
    {
     "data": {
      "image/png": "[encoded data removed]",
      "text/plain": [
       "<Figure size 432x288 with 1 Axes>"
      ]
     },
     "metadata": {
      "needs_background": "light"
     },
     "output_type": "display_data"
    }
   ],
   "source": [
    "# Bar graph of number of Fraud Vs Non-Fraud\n",
    "df.Class.value_counts().plot.bar()\n",
    "plt.show()"
   ]
  },
  {
   "cell_type": "code",
   "execution_count": 10,
   "metadata": {
    "scrolled": true
   },
   "outputs": [
    {
     "data": {
      "image/png": "[encoded data removed]",
      "text/plain": [
       "<Figure size 2016x504 with 2 Axes>"
      ]
     },
     "metadata": {
      "needs_background": "light"
     },
     "output_type": "display_data"
    }
   ],
   "source": [
    "# distribution for Amount and Time\n",
    "fig, ax = plt.subplots(1, 2, figsize = (28, 7))\n",
    "\n",
    "amount_value = df.Amount.values\n",
    "time_value = df.Time.values\n",
    "\n",
    "sns.distplot(amount_value, ax = ax[0])\n",
    "ax[0].set_title('Distribution of Transcation Amount')\n",
    "ax[0].set_xlim([min(amount_value), max(amount_value)])\n",
    "\n",
    "sns.distplot(time_value, ax = ax[1])\n",
    "ax[1].set_title('Distribution of Transcation Time')\n",
    "ax[1].set_xlim([min(time_value), max(time_value)])\n",
    "\n",
    "plt.show()"
   ]
  },
  {
   "cell_type": "code",
   "execution_count": 11,
   "metadata": {},
   "outputs": [
    {
     "data": {
      "text/html": [
       "<div>\n",
       "<style scoped>\n",
       "    .dataframe tbody tr th:only-of-type {\n",
       "        vertical-align: middle;\n",
       "    }\n",
       "\n",
       "    .dataframe tbody tr th {\n",
       "        vertical-align: top;\n",
       "    }\n",
       "\n",
       "    .dataframe thead th {\n",
       "        text-align: right;\n",
       "    }\n",
       "</style>\n",
       "<table border=\"1\" class=\"dataframe\">\n",
       "  <thead>\n",
       "    <tr style=\"text-align: right;\">\n",
       "      <th></th>\n",
       "      <th>Time</th>\n",
       "      <th>V1</th>\n",
       "      <th>V2</th>\n",
       "      <th>V3</th>\n",
       "      <th>V4</th>\n",
       "      <th>V5</th>\n",
       "      <th>V6</th>\n",
       "      <th>V7</th>\n",
       "      <th>V8</th>\n",
       "      <th>V9</th>\n",
       "      <th>...</th>\n",
       "      <th>V21</th>\n",
       "      <th>V22</th>\n",
       "      <th>V23</th>\n",
       "      <th>V24</th>\n",
       "      <th>V25</th>\n",
       "      <th>V26</th>\n",
       "      <th>V27</th>\n",
       "      <th>V28</th>\n",
       "      <th>Amount</th>\n",
       "      <th>Class</th>\n",
       "    </tr>\n",
       "  </thead>\n",
       "  <tbody>\n",
       "    <tr>\n",
       "      <th>count</th>\n",
       "      <td>170884.000000</td>\n",
       "      <td>170884.000000</td>\n",
       "      <td>170884.000000</td>\n",
       "      <td>170884.000000</td>\n",
       "      <td>170884.000000</td>\n",
       "      <td>170884.000000</td>\n",
       "      <td>170884.000000</td>\n",
       "      <td>170884.000000</td>\n",
       "      <td>170884.000000</td>\n",
       "      <td>170884.000000</td>\n",
       "      <td>...</td>\n",
       "      <td>170884.000000</td>\n",
       "      <td>170884.000000</td>\n",
       "      <td>170884.000000</td>\n",
       "      <td>170884.000000</td>\n",
       "      <td>170884.000000</td>\n",
       "      <td>170884.000000</td>\n",
       "      <td>170884.000000</td>\n",
       "      <td>170884.000000</td>\n",
       "      <td>170884.000000</td>\n",
       "      <td>170884.000000</td>\n",
       "    </tr>\n",
       "    <tr>\n",
       "      <th>mean</th>\n",
       "      <td>61091.914135</td>\n",
       "      <td>-0.169851</td>\n",
       "      <td>0.040763</td>\n",
       "      <td>0.493029</td>\n",
       "      <td>0.117427</td>\n",
       "      <td>-0.176094</td>\n",
       "      <td>0.058223</td>\n",
       "      <td>-0.080665</td>\n",
       "      <td>0.032226</td>\n",
       "      <td>0.018873</td>\n",
       "      <td>...</td>\n",
       "      <td>-0.028287</td>\n",
       "      <td>-0.083743</td>\n",
       "      <td>-0.022458</td>\n",
       "      <td>0.009009</td>\n",
       "      <td>0.092274</td>\n",
       "      <td>0.012610</td>\n",
       "      <td>0.002094</td>\n",
       "      <td>0.002441</td>\n",
       "      <td>87.336924</td>\n",
       "      <td>0.002107</td>\n",
       "    </tr>\n",
       "    <tr>\n",
       "      <th>std</th>\n",
       "      <td>27828.397787</td>\n",
       "      <td>1.850532</td>\n",
       "      <td>1.610872</td>\n",
       "      <td>1.383240</td>\n",
       "      <td>1.371906</td>\n",
       "      <td>1.338609</td>\n",
       "      <td>1.295129</td>\n",
       "      <td>1.208515</td>\n",
       "      <td>1.227626</td>\n",
       "      <td>1.152294</td>\n",
       "      <td>...</td>\n",
       "      <td>0.743711</td>\n",
       "      <td>0.667316</td>\n",
       "      <td>0.584514</td>\n",
       "      <td>0.598759</td>\n",
       "      <td>0.465509</td>\n",
       "      <td>0.490669</td>\n",
       "      <td>0.391950</td>\n",
       "      <td>0.307318</td>\n",
       "      <td>245.953726</td>\n",
       "      <td>0.045850</td>\n",
       "    </tr>\n",
       "    <tr>\n",
       "      <th>min</th>\n",
       "      <td>0.000000</td>\n",
       "      <td>-56.407510</td>\n",
       "      <td>-72.715728</td>\n",
       "      <td>-33.680984</td>\n",
       "      <td>-5.519697</td>\n",
       "      <td>-42.147898</td>\n",
       "      <td>-26.160506</td>\n",
       "      <td>-43.557242</td>\n",
       "      <td>-73.216718</td>\n",
       "      <td>-13.434066</td>\n",
       "      <td>...</td>\n",
       "      <td>-34.830382</td>\n",
       "      <td>-10.933144</td>\n",
       "      <td>-44.807735</td>\n",
       "      <td>-2.836627</td>\n",
       "      <td>-10.295397</td>\n",
       "      <td>-2.604551</td>\n",
       "      <td>-22.565679</td>\n",
       "      <td>-11.710896</td>\n",
       "      <td>0.000000</td>\n",
       "      <td>0.000000</td>\n",
       "    </tr>\n",
       "    <tr>\n",
       "      <th>25%</th>\n",
       "      <td>41216.750000</td>\n",
       "      <td>-0.986673</td>\n",
       "      <td>-0.539184</td>\n",
       "      <td>-0.064753</td>\n",
       "      <td>-0.743475</td>\n",
       "      <td>-0.828768</td>\n",
       "      <td>-0.691133</td>\n",
       "      <td>-0.586311</td>\n",
       "      <td>-0.162641</td>\n",
       "      <td>-0.660093</td>\n",
       "      <td>...</td>\n",
       "      <td>-0.230720</td>\n",
       "      <td>-0.546776</td>\n",
       "      <td>-0.170297</td>\n",
       "      <td>-0.332459</td>\n",
       "      <td>-0.195931</td>\n",
       "      <td>-0.330344</td>\n",
       "      <td>-0.065125</td>\n",
       "      <td>-0.027055</td>\n",
       "      <td>5.480000</td>\n",
       "      <td>0.000000</td>\n",
       "    </tr>\n",
       "    <tr>\n",
       "      <th>50%</th>\n",
       "      <td>60776.000000</td>\n",
       "      <td>-0.183596</td>\n",
       "      <td>0.109673</td>\n",
       "      <td>0.623352</td>\n",
       "      <td>0.124296</td>\n",
       "      <td>-0.226226</td>\n",
       "      <td>-0.202635</td>\n",
       "      <td>-0.031930</td>\n",
       "      <td>0.056663</td>\n",
       "      <td>-0.078965</td>\n",
       "      <td>...</td>\n",
       "      <td>-0.054463</td>\n",
       "      <td>-0.066777</td>\n",
       "      <td>-0.036213</td>\n",
       "      <td>0.059475</td>\n",
       "      <td>0.135677</td>\n",
       "      <td>-0.058965</td>\n",
       "      <td>0.008693</td>\n",
       "      <td>0.021151</td>\n",
       "      <td>21.895000</td>\n",
       "      <td>0.000000</td>\n",
       "    </tr>\n",
       "    <tr>\n",
       "      <th>75%</th>\n",
       "      <td>78622.000000</td>\n",
       "      <td>1.184446</td>\n",
       "      <td>0.804219</td>\n",
       "      <td>1.297351</td>\n",
       "      <td>0.937625</td>\n",
       "      <td>0.374478</td>\n",
       "      <td>0.449191</td>\n",
       "      <td>0.462623</td>\n",
       "      <td>0.350995</td>\n",
       "      <td>0.641351</td>\n",
       "      <td>...</td>\n",
       "      <td>0.128337</td>\n",
       "      <td>0.363159</td>\n",
       "      <td>0.098704</td>\n",
       "      <td>0.415858</td>\n",
       "      <td>0.399458</td>\n",
       "      <td>0.272944</td>\n",
       "      <td>0.089725</td>\n",
       "      <td>0.078301</td>\n",
       "      <td>76.722500</td>\n",
       "      <td>0.000000</td>\n",
       "    </tr>\n",
       "    <tr>\n",
       "      <th>max</th>\n",
       "      <td>120396.000000</td>\n",
       "      <td>2.439207</td>\n",
       "      <td>22.057729</td>\n",
       "      <td>9.382558</td>\n",
       "      <td>16.875344</td>\n",
       "      <td>34.801666</td>\n",
       "      <td>22.529298</td>\n",
       "      <td>36.677268</td>\n",
       "      <td>20.007208</td>\n",
       "      <td>15.594995</td>\n",
       "      <td>...</td>\n",
       "      <td>27.202839</td>\n",
       "      <td>10.503090</td>\n",
       "      <td>19.002942</td>\n",
       "      <td>4.022866</td>\n",
       "      <td>7.519589</td>\n",
       "      <td>3.517346</td>\n",
       "      <td>12.152401</td>\n",
       "      <td>33.847808</td>\n",
       "      <td>19656.530000</td>\n",
       "      <td>1.000000</td>\n",
       "    </tr>\n",
       "  </tbody>\n",
       "</table>\n",
       "<p>8 rows × 31 columns</p>\n",
       "</div>"
      ],
      "text/plain": [
       "                Time             V1             V2             V3  \\\n",
       "count  170884.000000  170884.000000  170884.000000  170884.000000   \n",
       "mean    61091.914135      -0.169851       0.040763       0.493029   \n",
       "std     27828.397787       1.850532       1.610872       1.383240   \n",
       "min         0.000000     -56.407510     -72.715728     -33.680984   \n",
       "25%     41216.750000      -0.986673      -0.539184      -0.064753   \n",
       "50%     60776.000000      -0.183596       0.109673       0.623352   \n",
       "75%     78622.000000       1.184446       0.804219       1.297351   \n",
       "max    120396.000000       2.439207      22.057729       9.382558   \n",
       "\n",
       "                  V4             V5             V6             V7  \\\n",
       "count  170884.000000  170884.000000  170884.000000  170884.000000   \n",
       "mean        0.117427      -0.176094       0.058223      -0.080665   \n",
       "std         1.371906       1.338609       1.295129       1.208515   \n",
       "min        -5.519697     -42.147898     -26.160506     -43.557242   \n",
       "25%        -0.743475      -0.828768      -0.691133      -0.586311   \n",
       "50%         0.124296      -0.226226      -0.202635      -0.031930   \n",
       "75%         0.937625       0.374478       0.449191       0.462623   \n",
       "max        16.875344      34.801666      22.529298      36.677268   \n",
       "\n",
       "                  V8             V9  ...            V21            V22  \\\n",
       "count  170884.000000  170884.000000  ...  170884.000000  170884.000000   \n",
       "mean        0.032226       0.018873  ...      -0.028287      -0.083743   \n",
       "std         1.227626       1.152294  ...       0.743711       0.667316   \n",
       "min       -73.216718     -13.434066  ...     -34.830382     -10.933144   \n",
       "25%        -0.162641      -0.660093  ...      -0.230720      -0.546776   \n",
       "50%         0.056663      -0.078965  ...      -0.054463      -0.066777   \n",
       "75%         0.350995       0.641351  ...       0.128337       0.363159   \n",
       "max        20.007208      15.594995  ...      27.202839      10.503090   \n",
       "\n",
       "                 V23            V24            V25            V26  \\\n",
       "count  170884.000000  170884.000000  170884.000000  170884.000000   \n",
       "mean       -0.022458       0.009009       0.092274       0.012610   \n",
       "std         0.584514       0.598759       0.465509       0.490669   \n",
       "min       -44.807735      -2.836627     -10.295397      -2.604551   \n",
       "25%        -0.170297      -0.332459      -0.195931      -0.330344   \n",
       "50%        -0.036213       0.059475       0.135677      -0.058965   \n",
       "75%         0.098704       0.415858       0.399458       0.272944   \n",
       "max        19.002942       4.022866       7.519589       3.517346   \n",
       "\n",
       "                 V27            V28         Amount          Class  \n",
       "count  170884.000000  170884.000000  170884.000000  170884.000000  \n",
       "mean        0.002094       0.002441      87.336924       0.002107  \n",
       "std         0.391950       0.307318     245.953726       0.045850  \n",
       "min       -22.565679     -11.710896       0.000000       0.000000  \n",
       "25%        -0.065125      -0.027055       5.480000       0.000000  \n",
       "50%         0.008693       0.021151      21.895000       0.000000  \n",
       "75%         0.089725       0.078301      76.722500       0.000000  \n",
       "max        12.152401      33.847808   19656.530000       1.000000  \n",
       "\n",
       "[8 rows x 31 columns]"
      ]
     },
     "execution_count": 11,
     "metadata": {},
     "output_type": "execute_result"
    }
   ],
   "source": [
    "# Summary Statistics\n",
    "df.describe()"
   ]
  },
  {
   "cell_type": "markdown",
   "metadata": {},
   "source": [
    "# Summary"
   ]
  },
  {
   "cell_type": "markdown",
   "metadata": {},
   "source": [
    "Due to privacy reasons, the only known features are Amount and Class. Freatures with the prefix \"V\" are principal components obtain with PCA. Additionally, Amount and Class has not been transform.\n",
    "\n",
    "Keypoints:\n",
    "\n",
    "    - The average amount spent per transcation is about $87.33 USD\n",
    "    - There are no null values\n",
    "    - Dataset is large imbalance with 0.21% Fraud and 99.79% Non-Fraud"
   ]
  },
  {
   "cell_type": "markdown",
   "metadata": {},
   "source": [
    "# Scaling 'Amount' & 'Time'"
   ]
  },
  {
   "cell_type": "code",
   "execution_count": 12,
   "metadata": {},
   "outputs": [],
   "source": [
    "# Scaling with standardizzation\n",
    "\n",
    "from sklearn.preprocessing import StandardScaler\n",
    "\n",
    "std_scaler = StandardScaler()\n",
    "\n",
    "df['S_Amount'] = std_scaler.fit_transform(df['Amount'].values.reshape(-1,1))\n",
    "df['S_Time'] = std_scaler.fit_transform(df['Time'].values.reshape(-1,1))\n",
    "\n",
    "df.drop(['Time', 'Amount'], axis = 1, inplace = True)"
   ]
  },
  {
   "cell_type": "markdown",
   "metadata": {},
   "source": [
    "Why are we scaling Amount & Time?\n",
    "\n",
    "By using standardization, we assume that the data has a Gaussian distribution, however, it doesn't have to be strictly true. It is just more effective if it has a Gaussian distribution. It is useful given our majority of features have been scaled. Furthermore, it is useful if we plan on using an algorithm that assumes our dataset has a Gaussian disbtrution. In this case we will be using Logistic Regression. Furthermore, we are standardizing by using the Z-Score which means that the mean of 0 and the standard deviation of 1. "
   ]
  },
  {
   "cell_type": "markdown",
   "metadata": {},
   "source": [
    "# Setting up the Reporting Results"
   ]
  },
  {
   "cell_type": "code",
   "execution_count": 13,
   "metadata": {},
   "outputs": [],
   "source": [
    "def train_set(ytrain,train_pred):\n",
    "    print(\"confusion matrix for train set : \")\n",
    "    cm = confusion_matrix(ytrain,train_pred)\n",
    "    print(cm)\n",
    "    print(\"--\"*40)\n",
    "    print(\"False positive rate :\",(cm[1][0]/(cm[1][0]+cm[1][1]))*100)  # FPR = FP/FP +TN\n",
    "    print(\"\\n\")\n",
    "    print(cm[1][0] ,\"out of\",(cm[1][0]+cm[1][1]),\"fraud transaction instances were classified as not a fraudulent transactions \\n\")\n",
    "    print(\"--\"*40)\n",
    "    print(\"False Negative rate :\",(cm[0][1]/(cm[0][1]+cm[0][0]))*100) # FNR = FN + (FN + TP )\n",
    "    print(\"\\n\")\n",
    "    print(cm[0][1],\"out of \",(cm[0][1]+cm[0][0]),\"non fraudulent transaction instances were classified as  a fraudulent transactions\")\n",
    "    print(\"--\"*40)\n",
    "    print(classification_report(ytrain,train_pred))"
   ]
  },
  {
   "cell_type": "code",
   "execution_count": 22,
   "metadata": {},
   "outputs": [],
   "source": [
    "def show_metrics(title, accuracy, precision, recall, f1, auc):\n",
    "    print(title, 'Results:\\n')\n",
    "    print('Accuracy: {}'.format(round(np.mean(accuracy), 2)))\n",
    "    print('Precision: {}'.format(round(np.mean(precision), 2)))\n",
    "    print('Recall: {}'.format(round(np.mean(recall), 2)))\n",
    "    print('F1-Score: {}'.format(round(np.mean(f1), 2)))\n",
    "    print('AUC: {}'.format(round(np.mean(auc), 2)))\n",
    "    print()\n",
    "    print('*'*80)\n",
    "    print()"
   ]
  },
  {
   "cell_type": "markdown",
   "metadata": {},
   "source": [
    "# Cross Validation -> Random Undersample"
   ]
  },
  {
   "cell_type": "markdown",
   "metadata": {},
   "source": [
    "Sampling before cross validation can lead to data leakage - duplicating observations that will end up in both the training and testing dataset. Thus, this can lead to overfitting. Data sampling should always be done during the splitting of data and/ or cross validation.\n",
    "\n",
    "I will also perform random undersampling which will remove data that has been classified as non-fraud in order to create a more balance dataset. Eventually the dataset will be balance with 50 percent of the observation being classified as fraud and non-fraud. This process will help avoid overfitting issues, however, this does come with the issue of loss in accuracy due to information loss. "
   ]
  },
  {
   "cell_type": "code",
   "execution_count": 14,
   "metadata": {},
   "outputs": [],
   "source": [
    "X = df.drop('Class', axis = 1)\n",
    "y = df['Class']"
   ]
  },
  {
   "cell_type": "code",
   "execution_count": 15,
   "metadata": {},
   "outputs": [],
   "source": [
    "nm_accuracy = []\n",
    "nm_precision = []\n",
    "nm_recall = []\n",
    "nm_f1 = []\n",
    "nm_auc = []\n",
    "\n",
    "nm_cmatrix = []"
   ]
  },
  {
   "cell_type": "code",
   "execution_count": 16,
   "metadata": {},
   "outputs": [],
   "source": [
    "X_train, X_test, y_train, y_test = train_test_split(X, y, test_size = 0.2, random_state=42)\n",
    "\n",
    "X_train = X_train.values\n",
    "X_test = X_test.values\n",
    "y_train = y_train.values\n",
    "y_test = y_test.values"
   ]
  },
  {
   "cell_type": "code",
   "execution_count": 17,
   "metadata": {},
   "outputs": [],
   "source": [
    "# Splits our data uniformly for each split\n",
    "\n",
    "cv = StratifiedKFold(n_splits=5, random_state=None, shuffle=False)"
   ]
  },
  {
   "cell_type": "code",
   "execution_count": 20,
   "metadata": {},
   "outputs": [],
   "source": [
    "for train_index, test_index in cv.split(X_train, y_train):\n",
    "    \n",
    "    pipeline = imbalanced_make_pipeline(NearMiss(), LogisticRegression())\n",
    "    nm_cv_model = pipeline.fit(X_train[train_index], y_train[train_index])\n",
    "    nm_cv_predict = nm_cv_model.predict(X_train[test_index])\n",
    "    \n",
    "    # Scoring metrics\n",
    "    nm_accuracy.append(pipeline.score(X_train[test_index], y_train[test_index]))\n",
    "    nm_precision.append(precision_score(y_train[test_index], nm_cv_predict))\n",
    "    nm_recall.append(recall_score(y_train[test_index], nm_cv_predict))\n",
    "    nm_f1.append(f1_score(y_train[test_index], nm_cv_predict))\n",
    "    nm_auc.append(roc_auc_score(y_train[test_index], nm_cv_predict))\n",
    "    \n",
    "    # Confusion Matrices\n",
    "    nm_cmatrix.append(confusion_matrix(y_train[test_index], nm_cv_predict))"
   ]
  },
  {
   "cell_type": "code",
   "execution_count": 23,
   "metadata": {},
   "outputs": [
    {
     "name": "stdout",
     "output_type": "stream",
     "text": [
      "NearMiss During Cross Validation Results:\n",
      "\n",
      "Accuracy: 0.55\n",
      "Precision: 0.0\n",
      "Recall: 0.96\n",
      "F1-Score: 0.01\n",
      "AUC: 0.75\n",
      "\n",
      "********************************************************************************\n",
      "\n"
     ]
    }
   ],
   "source": [
    "show_metrics('NearMiss During Cross Validation', nm_accuracy, nm_precision, nm_recall, nm_f1, nm_auc)"
   ]
  },
  {
   "cell_type": "code",
   "execution_count": 34,
   "metadata": {},
   "outputs": [
    {
     "data": {
      "image/png": "[encoded data removed]",
      "text/plain": [
       "<Figure size 1440x216 with 5 Axes>"
      ]
     },
     "metadata": {
      "needs_background": "light"
     },
     "output_type": "display_data"
    }
   ],
   "source": [
    "fig, ax = plt.subplots(figsize = (20, 3), nrows = 1, ncols = 5)\n",
    "xtick_labels = ['P_non_fraud', 'P_fraud']\n",
    "ytick_labels = ['A_non_fraud', 'A_fraud']\n",
    "k = 0\n",
    "\n",
    "for cmatrix in nm_cmatrix:\n",
    "    ax1 = sns.heatmap(cmatrix, cbar=False, ax=ax[k], yticklabels=ytick_labels,\n",
    "                      xticklabels=xtick_labels, annot=True, annot_kws={'size' : 15})\n",
    "    k=k+1"
   ]
  },
  {
   "cell_type": "code",
   "execution_count": 25,
   "metadata": {},
   "outputs": [
    {
     "data": {
      "text/plain": [
       "[array([[15909, 11375],\n",
       "        [    2,    56]], dtype=int64),\n",
       " array([[13329, 13954],\n",
       "        [    2,    57]], dtype=int64),\n",
       " array([[13016, 14267],\n",
       "        [    3,    55]], dtype=int64),\n",
       " array([[19935,  7348],\n",
       "        [    6,    52]], dtype=int64),\n",
       " array([[11807, 15476],\n",
       "        [    0,    58]], dtype=int64)]"
      ]
     },
     "execution_count": 25,
     "metadata": {},
     "output_type": "execute_result"
    }
   ],
   "source": [
    "nm_cmatrix[:5]"
   ]
  },
  {
   "cell_type": "markdown",
   "metadata": {},
   "source": [
    "# Cross Validation -> Random Oversampling"
   ]
  },
  {
   "cell_type": "markdown",
   "metadata": {},
   "source": [
    "Now instead of random undersampling, I will use random over sampling. I will use synthetic minority oversampling technique (SMOTE). It is another method to dealing with imblanced data. This method create new minority instances from existing minority instances. \n",
    "\n",
    "\"The new instances are not just copies of existing minority cases; instead, the algorithm takes samples of the feature space for each target class and its nearest neighbors, and generates new examples that combine features of the target case with features of its neighbors. This approach increases the features available to each class and makes the samples more general.\" \n",
    "\n",
    "https://docs.microsoft.com/en-us/azure/machine-learning/studio-module-reference/smote"
   ]
  },
  {
   "cell_type": "code",
   "execution_count": 35,
   "metadata": {},
   "outputs": [],
   "source": [
    "sm_accuracy = []\n",
    "sm_precision = []\n",
    "sm_recall = []\n",
    "sm_f1 = []\n",
    "sm_auc = []\n",
    "\n",
    "sm_cmatrix = []"
   ]
  },
  {
   "cell_type": "code",
   "execution_count": 36,
   "metadata": {},
   "outputs": [],
   "source": [
    "for train_index, test_index in cv.split(X_train, y_train):\n",
    "    \n",
    "    pipeline = imbalanced_make_pipeline(SMOTE(), LogisticRegression())\n",
    "    nm_cv_model = pipeline.fit(X_train[train_index], y_train[train_index])\n",
    "    nm_cv_predict = nm_cv_model.predict(X_train[test_index])\n",
    "    \n",
    "    # Scoring metrics\n",
    "    sm_accuracy.append(pipeline.score(X_train[test_index], y_train[test_index]))\n",
    "    sm_precision.append(precision_score(y_train[test_index], nm_cv_predict))\n",
    "    sm_recall.append(recall_score(y_train[test_index], nm_cv_predict))\n",
    "    sm_f1.append(f1_score(y_train[test_index], nm_cv_predict))\n",
    "    sm_auc.append(roc_auc_score(y_train[test_index], nm_cv_predict))\n",
    "    \n",
    "    # Confusion Matrices\n",
    "    sm_cmatrix.append(confusion_matrix(y_train[test_index], nm_cv_predict))"
   ]
  },
  {
   "cell_type": "code",
   "execution_count": 37,
   "metadata": {},
   "outputs": [
    {
     "name": "stdout",
     "output_type": "stream",
     "text": [
      "SMOTE During Cross Validation Results:\n",
      "\n",
      "Accuracy: 0.98\n",
      "Precision: 0.08\n",
      "Recall: 0.91\n",
      "F1-Score: 0.15\n",
      "AUC: 0.75\n",
      "\n",
      "********************************************************************************\n",
      "\n"
     ]
    }
   ],
   "source": [
    "show_metrics('SMOTE During Cross Validation', sm_accuracy, sm_precision, sm_recall, sm_f1, nm_auc)"
   ]
  },
  {
   "cell_type": "code",
   "execution_count": 38,
   "metadata": {},
   "outputs": [
    {
     "data": {
      "image/png": "[encoded data removed]",
      "text/plain": [
       "<Figure size 1440x216 with 5 Axes>"
      ]
     },
     "metadata": {
      "needs_background": "light"
     },
     "output_type": "display_data"
    }
   ],
   "source": [
    "fig, ax = plt.subplots(figsize = (20, 3), nrows = 1, ncols = 5)\n",
    "xtick_labels = ['P_non_fraud', 'P_fraud']\n",
    "ytick_labels = ['A_non_fraud', 'A_fraud']\n",
    "k = 0\n",
    "\n",
    "for cmatrix in sm_cmatrix:\n",
    "    ax1 = sns.heatmap(cmatrix, cbar=False, ax=ax[k], yticklabels=ytick_labels,\n",
    "                      xticklabels=xtick_labels, annot=True, annot_kws={'size' : 15})\n",
    "    k=k+1"
   ]
  },
  {
   "cell_type": "code",
   "execution_count": 39,
   "metadata": {},
   "outputs": [
    {
     "data": {
      "text/plain": [
       "[array([[26679,   605],\n",
       "        [    6,    52]], dtype=int64),\n",
       " array([[26720,   563],\n",
       "        [    5,    54]], dtype=int64),\n",
       " array([[26717,   566],\n",
       "        [    2,    56]], dtype=int64),\n",
       " array([[26708,   575],\n",
       "        [    9,    49]], dtype=int64),\n",
       " array([[26684,   599],\n",
       "        [    3,    55]], dtype=int64)]"
      ]
     },
     "execution_count": 39,
     "metadata": {},
     "output_type": "execute_result"
    }
   ],
   "source": [
    "sm_cmatrix"
   ]
  },
  {
   "cell_type": "markdown",
   "metadata": {},
   "source": [
    "# Continue Modeling with SMOTE"
   ]
  },
  {
   "cell_type": "code",
   "execution_count": 52,
   "metadata": {},
   "outputs": [],
   "source": [
    "sm = SMOTE()\n",
    "X_train_sm, y_train_sm = sm.fit_sample(X_train, y_train) "
   ]
  },
  {
   "cell_type": "code",
   "execution_count": 49,
   "metadata": {},
   "outputs": [
    {
     "name": "stdout",
     "output_type": "stream",
     "text": [
      "Before OverSampling, counts of label '1': 291\n",
      "Before OverSampling, counts of label '0': 136416\n"
     ]
    }
   ],
   "source": [
    "print(\"Before OverSampling, counts of label '1': {}\".format(sum(y_train == 1))) \n",
    "print(\"Before OverSampling, counts of label '0': {}\".format(sum(y_train == 0))) "
   ]
  },
  {
   "cell_type": "code",
   "execution_count": 54,
   "metadata": {},
   "outputs": [
    {
     "name": "stdout",
     "output_type": "stream",
     "text": [
      "After OverSampling, the shape of train_X: (272832, 30)\n",
      "After OverSampling, the shape of train_y: (272832, 30) \n",
      "\n",
      "After OverSampling, counts of label '1': 136416\n",
      "After OverSampling, counts of label '0': 136416\n"
     ]
    }
   ],
   "source": [
    "print('After OverSampling, the shape of train_X: {}'.format(X_train_sm.shape)) \n",
    "print('After OverSampling, the shape of train_y: {} \\n'.format(X_train_sm.shape)) \n",
    "  \n",
    "print(\"After OverSampling, counts of label '1': {}\".format(sum(y_train_sm == 1))) \n",
    "print(\"After OverSampling, counts of label '0': {}\".format(sum(y_train_sm == 0)))"
   ]
  },
  {
   "cell_type": "markdown",
   "metadata": {},
   "source": [
    "# Selecting Hyperparamter"
   ]
  },
  {
   "cell_type": "code",
   "execution_count": 108,
   "metadata": {},
   "outputs": [],
   "source": [
    "from sklearn.model_selection import GridSearchCV\n",
    "\n",
    "params = {\"penalty\":['l1', 'l2', 'none'], \"C\": [0.001, 0.01, 0.1, 1, 10, 15, 20]}\n",
    "grid_lr = GridSearchCV(LogisticRegression(), params,\n",
    "                      scoring = 'recall',\n",
    "                      cv = 10,\n",
    "                      n_jobs = - 1)\n",
    "\n",
    "grid_lr.fit(X_train_sm, y_train_sm)\n",
    "log_reg = grid_lr.best_estimator_"
   ]
  },
  {
   "cell_type": "code",
   "execution_count": 109,
   "metadata": {},
   "outputs": [
    {
     "data": {
      "text/plain": [
       "LogisticRegression(C=0.001, penalty='none')"
      ]
     },
     "execution_count": 109,
     "metadata": {},
     "output_type": "execute_result"
    }
   ],
   "source": [
    "log_reg"
   ]
  },
  {
   "cell_type": "markdown",
   "metadata": {},
   "source": [
    "# Final Model"
   ]
  },
  {
   "cell_type": "code",
   "execution_count": 110,
   "metadata": {},
   "outputs": [
    {
     "name": "stdout",
     "output_type": "stream",
     "text": [
      "              precision    recall  f1-score   support\n",
      "\n",
      "           0       1.00      0.98      0.99     34108\n",
      "           1       0.08      0.90      0.14        69\n",
      "\n",
      "    accuracy                           0.98     34177\n",
      "   macro avg       0.54      0.94      0.57     34177\n",
      "weighted avg       1.00      0.98      0.99     34177\n",
      "\n"
     ]
    }
   ],
   "source": [
    "lr = LogisticRegression(C=0.001, penalty='none')\n",
    "lr.fit(X_train_sm, y_train_sm) \n",
    "predictions = lr.predict(X_test) \n",
    "\n",
    "print(classification_report(y_test, predictions)) "
   ]
  },
  {
   "cell_type": "markdown",
   "metadata": {},
   "source": [
    "# Testing on Kaggle Test Data"
   ]
  },
  {
   "cell_type": "code",
   "execution_count": 101,
   "metadata": {},
   "outputs": [],
   "source": [
    "test_df = pd.read_csv('test.csv')"
   ]
  },
  {
   "cell_type": "code",
   "execution_count": 102,
   "metadata": {},
   "outputs": [],
   "source": [
    "test_df['S_Amount'] = std_scaler.fit_transform(test_df['Amount'].values.reshape(-1,1))\n",
    "test_df['S_Time'] = std_scaler.fit_transform(test_df['Time'].values.reshape(-1,1))\n",
    "\n",
    "test_df.drop(['Amount', 'Time'], axis = 1, inplace = True)"
   ]
  },
  {
   "cell_type": "code",
   "execution_count": 111,
   "metadata": {},
   "outputs": [],
   "source": [
    "predict_kaggle = lr.predict(test_df)"
   ]
  },
  {
   "cell_type": "code",
   "execution_count": 112,
   "metadata": {},
   "outputs": [],
   "source": [
    "kaggle_df = pd.DataFrame(predict_kaggle)\n",
    "kaggle_df.rename(columns = {0: 'Class'}, inplace = True)"
   ]
  },
  {
   "cell_type": "code",
   "execution_count": 113,
   "metadata": {},
   "outputs": [],
   "source": [
    "sample = pd.read_csv(\"sample_submission.csv\")\n",
    "sample.drop(['Class'], axis = 1, inplace = True)"
   ]
  },
  {
   "cell_type": "code",
   "execution_count": 114,
   "metadata": {},
   "outputs": [],
   "source": [
    "sample['Class'] = kaggle_df.Class\n",
    "sample.set_index(['Id'], inplace = True)"
   ]
  },
  {
   "cell_type": "code",
   "execution_count": 115,
   "metadata": {},
   "outputs": [],
   "source": [
    "sample.to_csv('kaggle_credit.csv')"
   ]
  },
  {
   "cell_type": "markdown",
   "metadata": {},
   "source": [
    "# Results"
   ]
  },
  {
   "cell_type": "markdown",
   "metadata": {},
   "source": [
    "This is a late submission for https://www.kaggle.com/c/3d-credit-card-fraud-detection/leaderboard.\n",
    "\n",
    "The results from the models:\n",
    "\n",
    "    - Private Score: 0.95010\n",
    "    - Public Score: 0.90332\n",
    "    \n",
    "Public score is determine by 30% of test data while private score determine by 70% of the test data."
   ]
  },
  {
   "cell_type": "code",
   "execution_count": 123,
   "metadata": {},
   "outputs": [
    {
     "name": "stdout",
     "output_type": "stream",
     "text": [
      "Final Score: 0.936066\n"
     ]
    }
   ],
   "source": [
    "# Final Score\n",
    "\n",
    "print(\"Final Score: {}\".format(.3 * (0.90332) + .7 * (0.95010)))"
   ]
  }
 ],
 "metadata": {
  "kernelspec": {
   "display_name": "Python 3",
   "language": "python",
   "name": "python3"
  },
  "language_info": {
   "codemirror_mode": {
    "name": "ipython",
    "version": 3
   },
   "file_extension": ".py",
   "mimetype": "text/x-python",
   "name": "python",
   "nbconvert_exporter": "python",
   "pygments_lexer": "ipython3",
   "version": "3.7.7"
  }
 },
 "nbformat": 4,
 "nbformat_minor": 4
}
